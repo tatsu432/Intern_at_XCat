{
 "cells": [
  {
   "cell_type": "markdown",
   "metadata": {},
   "source": [
    "This is a code I used at the Data Science Hackathon in XCat where I got the second best prize out of 12 groups by myself and almost all paticipants were graduate students except for me.\n",
    "\n",
    "This code vedoids of the data from XCat due to the confidential reasons. Therefore, this code would not work properly without the data from them. It is just a portfolio of my Causal Inference skills\n",
    "\n",
    "Difference in Difference (DID)"
   ]
  },
  {
   "cell_type": "markdown",
   "metadata": {},
   "source": [
    "DF_evaluation_revisedで一つでも欠損値を含むレコードを削除して分析"
   ]
  },
  {
   "cell_type": "code",
   "execution_count": null,
   "metadata": {},
   "outputs": [],
   "source": [
    "import numpy as np\n",
    "import pandas as pd\n",
    "\n",
    "import matplotlib.pyplot as plt\n",
    "plt.style.use('ggplot')\n",
    "\n",
    "import openpyxl\n",
    "\n",
    "\n",
    "from datetime import datetime\n",
    "%matplotlib inline"
   ]
  },
  {
   "cell_type": "code",
   "execution_count": null,
   "metadata": {},
   "outputs": [],
   "source": [
    "cd .."
   ]
  },
  {
   "cell_type": "code",
   "execution_count": null,
   "metadata": {},
   "outputs": [],
   "source": [
    "#配布データの読み込み\n",
    "\n",
    "#社員情報の読み取り\n",
    "worker = pd.ExcelFile(\"ALL\\【ハッカソン】社員情報.xlsx\")\n",
    "#sheet_namesメソッドでExcelブック内の各シートの名前をリストで取得できる\n",
    "input_sheet_name = worker.sheet_names\n",
    "DF_worker = worker.parse(input_sheet_name[0])\n",
    "\n",
    "\n",
    "\n",
    "\n",
    "#評価データの読み取り\n",
    "evaluation = pd.ExcelFile(\"ALL\\【ハッカソン】評価データ.xlsx\")\n",
    "#sheet_namesメソッドでExcelブック内の各シートの名前をリストで取得できる\n",
    "input_sheet_name = evaluation.sheet_names\n",
    "DF_evaluation = evaluation.parse(input_sheet_name[0])\n",
    "\n",
    "\n",
    "\n",
    "#評価データ（数値以外のデータを削除した加工済み）の読み取り\n",
    "evaluation_revised = pd.ExcelFile(\"ALL\\evaluation_data_get_rid_off_string.xlsx\")\n",
    "#sheet_namesメソッドでExcelブック内の各シートの名前をリストで取得できる\n",
    "input_sheet_name = evaluation_revised.sheet_names\n",
    "DF_evaluation_revised = evaluation_revised.parse(input_sheet_name[0])\n",
    "\n",
    "\n",
    "\n",
    "#日時勤務実績2017~2021の読み取り\n",
    "\n",
    "working2017 = pd.ExcelFile(\"ALL\\【ハッカソン】日次勤務実績_2017年度 （20170401-20180331）.xlsx\")\n",
    "#sheet_namesメソッドでExcelブック内の各シートの名前をリストで取得できる\n",
    "input_sheet_name = working2017.sheet_names\n",
    "DF_working2017 = working2017.parse(input_sheet_name[0])\n",
    "\n",
    "\n",
    "working2018 = pd.ExcelFile(\"ALL\\【ハッカソン】日次勤務実績_2018年度（20180401-20190331）.xlsx\")\n",
    "#sheet_namesメソッドでExcelブック内の各シートの名前をリストで取得できる\n",
    "input_sheet_name = working2018.sheet_names\n",
    "DF_working2018 = working2018.parse(input_sheet_name[0])\n",
    "\n",
    "working2019 = pd.ExcelFile(\"ALL\\【ハッカソン】日次勤務実績_2019年度（20190401-20200331）.xlsx\")\n",
    "#sheet_namesメソッドでExcelブック内の各シートの名前をリストで取得できる\n",
    "input_sheet_name = working2019.sheet_names\n",
    "DF_working2019 = working2019.parse(input_sheet_name[0])\n",
    "\n",
    "working2020 = pd.ExcelFile(\"ALL\\【ハッカソン】日次勤務実績_2020年度 （20200401-20210331）.xlsx\")\n",
    "#sheet_namesメソッドでExcelブック内の各シートの名前をリストで取得できる\n",
    "input_sheet_name = working2020.sheet_names\n",
    "DF_working2020 = working2020.parse(input_sheet_name[0])\n",
    "\n",
    "working2021 = pd.ExcelFile(\"ALL\\【ハッカソン】日次勤務実績_2021年度 （20210401-20220331）.xlsx\")\n",
    "#sheet_namesメソッドでExcelブック内の各シートの名前をリストで取得できる\n",
    "input_sheet_name = working2021.sheet_names\n",
    "DF_working2021 = working2021.parse(input_sheet_name[0])"
   ]
  },
  {
   "cell_type": "code",
   "execution_count": null,
   "metadata": {},
   "outputs": [],
   "source": [
    "DF_evaluation_revised = DF_evaluation_revised.dropna()"
   ]
  },
  {
   "cell_type": "code",
   "execution_count": null,
   "metadata": {},
   "outputs": [],
   "source": [
    "# 2017~2021をまとめる\n",
    "\n",
    "DF_working_all = pd.concat([DF_working2017, DF_working2018, DF_working2019, DF_working2020, DF_working2021], axis=0)\n",
    "\n",
    "DF_working_all = DF_working_all.reset_index()\n",
    "DF_working_all = DF_working_all.drop(columns='index')\n",
    "DF_working_all"
   ]
  },
  {
   "cell_type": "code",
   "execution_count": null,
   "metadata": {},
   "outputs": [],
   "source": [
    "DF_worker"
   ]
  },
  {
   "cell_type": "code",
   "execution_count": null,
   "metadata": {},
   "outputs": [],
   "source": [
    "DF_evaluation"
   ]
  },
  {
   "cell_type": "code",
   "execution_count": null,
   "metadata": {},
   "outputs": [],
   "source": [
    "DF_working_all"
   ]
  },
  {
   "cell_type": "markdown",
   "metadata": {},
   "source": [
    "## テレワーク勤務の利用者数と利用割合を時系列で可視化する"
   ]
  },
  {
   "cell_type": "code",
   "execution_count": null,
   "metadata": {},
   "outputs": [],
   "source": [
    "#勤務日でまとめて平均を出す\n",
    "DF_working_mean = DF_working_all.groupby('勤務日').mean()"
   ]
  },
  {
   "cell_type": "code",
   "execution_count": null,
   "metadata": {},
   "outputs": [],
   "source": [
    "DF_working_mean_telework = DF_working_mean[\"テレワーク勤務\"]"
   ]
  },
  {
   "cell_type": "code",
   "execution_count": null,
   "metadata": {},
   "outputs": [],
   "source": [
    "date_tele = list(DF_working_mean_telework.index)\n"
   ]
  },
  {
   "cell_type": "code",
   "execution_count": null,
   "metadata": {},
   "outputs": [],
   "source": [
    "telework_num = list(DF_working_mean_telework)\n"
   ]
  },
  {
   "cell_type": "code",
   "execution_count": null,
   "metadata": {},
   "outputs": [],
   "source": [
    "telework_num[0]"
   ]
  },
  {
   "cell_type": "code",
   "execution_count": null,
   "metadata": {},
   "outputs": [],
   "source": [
    "with open(\"ALL/telework_time.txt\", mode=\"w\",  encoding=\"utf-8\", ) as f:\n",
    "    for i in range(len(date_tele)):\n",
    "        words = str(date_tele[i]) + \", \" + str(telework_num[i]) + \"\\n\"\n",
    "        f.write(words)"
   ]
  },
  {
   "cell_type": "code",
   "execution_count": null,
   "metadata": {},
   "outputs": [],
   "source": [
    "time_mean = list(DF_working_mean_telework.index)"
   ]
  },
  {
   "cell_type": "code",
   "execution_count": null,
   "metadata": {},
   "outputs": [],
   "source": [
    "plt.scatter(time_mean, DF_working_mean_telework*100, color=\"green\")\n",
    "plt.xlabel(\"時間\", fontname=\"MS Gothic\")\n",
    "plt.ylabel(\"テレワーク平均利用者割合（％）\", fontname=\"MS Gothic\")\n",
    "plt.title(\"テレワーク利用者割合（％）の散布図\", fontname=\"MS Gothic\")"
   ]
  },
  {
   "cell_type": "code",
   "execution_count": null,
   "metadata": {},
   "outputs": [],
   "source": [
    "#勤務日でまとめて総和で出す\n",
    "DF_working_sum = DF_working_all.groupby('勤務日').sum()"
   ]
  },
  {
   "cell_type": "code",
   "execution_count": null,
   "metadata": {},
   "outputs": [],
   "source": [
    "DF_working_sum_telework = DF_working_sum[\"テレワーク勤務\"]"
   ]
  },
  {
   "cell_type": "code",
   "execution_count": null,
   "metadata": {},
   "outputs": [],
   "source": [
    "time_sum = list(DF_working_sum_telework.index)\n",
    "\n",
    "plt.scatter(time_sum, DF_working_sum_telework)\n",
    "plt.xlabel(\"時間\", fontname=\"MS Gothic\")\n",
    "plt.ylabel(\"テレワーク総利用者数（人）\", fontname=\"MS Gothic\")\n",
    "plt.title(\"テレワーク利用者数（人）の散布図\", fontname=\"MS Gothic\")"
   ]
  },
  {
   "cell_type": "markdown",
   "metadata": {},
   "source": [
    "## 少なくとも一度テレワーク勤務を利用した人を介入群として差の差分析\n",
    "期間：2022/03/31~2022/04/01"
   ]
  },
  {
   "cell_type": "code",
   "execution_count": null,
   "metadata": {},
   "outputs": [],
   "source": [
    "from_2021 = datetime(2021, 3, 31)\n",
    "to_2021 = datetime(2022, 4, 1)\n",
    "DF_working_2021 = DF_working_all[(from_2021 <= DF_working_all[\"勤務日\"]) & (DF_working_all[\"勤務日\"] <= to_2021)]"
   ]
  },
  {
   "cell_type": "code",
   "execution_count": null,
   "metadata": {},
   "outputs": [],
   "source": [
    "DF_working_2021_sum = DF_working_2021.groupby('社員コード').sum()\n",
    "\n",
    "DF_working_2021_sum"
   ]
  },
  {
   "cell_type": "code",
   "execution_count": null,
   "metadata": {},
   "outputs": [],
   "source": [
    "#テレワーク勤務を2021年に一度でも行った社員コードをリストにする\n",
    "list_yes_telework = list(DF_working_2021_sum[DF_working_2021_sum[\"テレワーク勤務\"] > 0].index)\n",
    "\n",
    "list_no_telework = list(DF_working_2021_sum[DF_working_2021_sum[\"テレワーク勤務\"] == 0].index)"
   ]
  },
  {
   "cell_type": "code",
   "execution_count": null,
   "metadata": {},
   "outputs": [],
   "source": [
    "DF_evaluation_DID = DF_evaluation_revised.copy()\n",
    "\n",
    "# 列名を変更\n",
    "DF_evaluation_DID = DF_evaluation_DID.rename(columns={\n",
    "                                                    \"2013年度\": 2013, \n",
    "                                                    \"2014年度\": 2014, \n",
    "                                                    \"2015年度\": 2015, \n",
    "                                                    \"2016年度\": 2016, \n",
    "                                                    \"2017年度\": 2017, \n",
    "                                                    \"2018年度\": 2018, \n",
    "                                                    \"2019年度\": 2019, \n",
    "                                                    \"2020年度\": 2020, \n",
    "                                                    \"2021年度\": 2021, \n",
    "                                                    })\n",
    "\n",
    "# CGを初期値としてgroupをデータフレームに追加\n",
    "DF_evaluation_DID[\"group\"] = \"CG\"\n",
    "\n",
    "list_worker_number = list(DF_evaluation_DID[\"社員番号\"])\n",
    "\n",
    "# 2021年の間に少なくとも1度テレワークを利用した労働者をTGとする\n",
    "for i in range(len(list_worker_number)):\n",
    "    worker_number = str(list_worker_number[i])\n",
    "    if (worker_number in list_yes_telework):\n",
    "        DF_evaluation_DID.loc[i, \"group\"] = \"TG\"\n",
    "\n",
    "# TGとCGで集計する\n",
    "DF_evaluation_DID_summary = DF_evaluation_DID.groupby(\"group\").mean()\n",
    "\n",
    "\n",
    "DF_evaluation_DID_summary\n"
   ]
  },
  {
   "cell_type": "code",
   "execution_count": null,
   "metadata": {},
   "outputs": [],
   "source": [
    "# CGとTGをDIDで可視化\n",
    "\n",
    "plt.plot(DF_evaluation_DID_summary.loc[\"CG\"], label=\"比較群\")\n",
    "plt.plot(DF_evaluation_DID_summary.loc[\"TG\"], label=\"介入群\")\n",
    "plt.xlabel(\"時間\", fontname=\"MS Gothic\")\n",
    "plt.ylabel(\"評価（低い方が高評価）\", fontname=\"MS Gothic\")\n",
    "plt.title(\"テレワーク勤務を一回以上行った人を介入群とした差の差分析\", fontname=\"MS Gothic\")\n",
    "plt.axvline(x=2019.5, color=\"purple\", label=\"テレワーク導入\")\n",
    "plt.legend(prop={'family':'Yu Gothic'})"
   ]
  },
  {
   "cell_type": "code",
   "execution_count": null,
   "metadata": {},
   "outputs": [],
   "source": [
    "DF_evaluation_DID_summary"
   ]
  },
  {
   "cell_type": "code",
   "execution_count": null,
   "metadata": {},
   "outputs": [],
   "source": [
    "# テレワーク導入の因果効果を求める\n",
    "\n",
    "TG2021 = DF_evaluation_DID_summary.loc[\"TG\", 2021]\n",
    "TG2020 = DF_evaluation_DID_summary.loc[\"TG\", 2020]\n",
    "CG2021 = DF_evaluation_DID_summary.loc[\"CG\", 2021]\n",
    "CG2020 = DF_evaluation_DID_summary.loc[\"CG\", 2020]\n",
    "\n",
    "causal_effect = (TG2021 - TG2020) - (CG2021 - CG2020)\n",
    "\n",
    "causal_effect"
   ]
  },
  {
   "cell_type": "markdown",
   "metadata": {},
   "source": [
    "## 出勤日数の半分以上でテレワーク勤務を利用した人を介入群として差の差分析\n",
    "期間：2022/03/31~2022/04/01"
   ]
  },
  {
   "cell_type": "code",
   "execution_count": null,
   "metadata": {},
   "outputs": [],
   "source": [
    "DF_working_2021_sum.loc[:, [\"出勤日数\", \"テレワーク勤務\"]]"
   ]
  },
  {
   "cell_type": "code",
   "execution_count": null,
   "metadata": {},
   "outputs": [],
   "source": [
    "DF_working_2021_sum[\"telework ratio\"] = DF_working_2021_sum[\"テレワーク勤務\"] / DF_working_2021_sum[\"出勤日数\"]"
   ]
  },
  {
   "cell_type": "code",
   "execution_count": null,
   "metadata": {},
   "outputs": [],
   "source": [
    "DF_tele_ratio = DF_working_2021_sum.loc[:, [\"telework ratio\", \"出勤日数\", \"テレワーク勤務\"]]"
   ]
  },
  {
   "cell_type": "code",
   "execution_count": null,
   "metadata": {},
   "outputs": [],
   "source": [
    "ratios = [0, 0.1, 0.2, 0.3, 0.4, 0.5, 0.6, 0.7, 0.8, 0.9, 1]\n",
    "telework_users = []\n",
    "for i in range(len(ratios)):\n",
    "    number_of_telework_users = len(DF_tele_ratio[DF_tele_ratio[\"telework ratio\"] <= ratios[i]])\n",
    "    telework_users.append(number_of_telework_users)\n",
    "\n",
    "percentage = [0, 10, 20, 30, 40, 50, 60, 70, 80, 90, 100]\n",
    "plt.plot(percentage, telework_users)\n",
    "plt.xlabel(\"テレワーク勤務の割合（％）\", fontname=\"MS Gothic\")\n",
    "plt.ylabel(\"その割合以下の人数\", fontname=\"MS Gothic\")\n",
    "plt.title(\"テレワークの割合とそれ以下の人数の累積分布\", fontname=\"MS Gothic\")"
   ]
  },
  {
   "cell_type": "code",
   "execution_count": null,
   "metadata": {},
   "outputs": [],
   "source": [
    "#テレワーク勤務が半分以上かどうかで分類し、社員コードをリストにする\n",
    "list_telework_TG = list(DF_tele_ratio[DF_tele_ratio[\"telework ratio\"] >= 0.5].index)\n",
    "\n",
    "list_telework_CG = list(DF_tele_ratio[DF_tele_ratio[\"telework ratio\"] < 0.5].index)"
   ]
  },
  {
   "cell_type": "code",
   "execution_count": null,
   "metadata": {},
   "outputs": [],
   "source": [
    "list_telework_TG"
   ]
  },
  {
   "cell_type": "code",
   "execution_count": null,
   "metadata": {},
   "outputs": [],
   "source": [
    "DF_evaluation_DID2 = DF_evaluation_revised.copy()\n",
    "\n",
    "# 列名を変更\n",
    "DF_evaluation_DID2 = DF_evaluation_DID2.rename(columns={\n",
    "                                                    \"2013年度\": 2013, \n",
    "                                                    \"2014年度\": 2014, \n",
    "                                                    \"2015年度\": 2015, \n",
    "                                                    \"2016年度\": 2016, \n",
    "                                                    \"2017年度\": 2017, \n",
    "                                                    \"2018年度\": 2018, \n",
    "                                                    \"2019年度\": 2019, \n",
    "                                                    \"2020年度\": 2020, \n",
    "                                                    \"2021年度\": 2021, \n",
    "                                                    })\n",
    "\n",
    "# CGを初期値としてgroupをデータフレームに追加\n",
    "DF_evaluation_DID2[\"group\"] = \"CG\"\n",
    "\n",
    "list_worker_number = list(DF_evaluation_DID2[\"社員番号\"])\n",
    "\n",
    "# 半分以上テレワークを利用した労働者をTGとする\n",
    "for i in range(len(list_worker_number)):\n",
    "    worker_number = str(list_worker_number[i])\n",
    "    if (worker_number in list_telework_TG):\n",
    "        DF_evaluation_DID2.loc[i, \"group\"] = \"TG\"\n",
    "\n",
    "# TGとCGで集計する\n",
    "DF_evaluation_DID2_summary = DF_evaluation_DID2.groupby(\"group\").mean()\n",
    "\n",
    "\n",
    "DF_evaluation_DID2_summary\n"
   ]
  },
  {
   "cell_type": "code",
   "execution_count": null,
   "metadata": {},
   "outputs": [],
   "source": [
    "list(DF_evaluation_DID2_summary.loc[\"CG\"])"
   ]
  },
  {
   "cell_type": "code",
   "execution_count": null,
   "metadata": {},
   "outputs": [],
   "source": [
    "# CGとTGをDIDで可視化\n",
    "\n",
    "from tkinter.ttk import Style\n",
    "\n",
    "\n",
    "plt.plot(DF_evaluation_DID2_summary.loc[\"CG\"], label=\"比較群（テレワーク非利用）\", color=\"black\", linestyle=\"dashed\")\n",
    "plt.plot(DF_evaluation_DID2_summary.loc[\"TG\"], label=\"介入群（テレワーク利用）\", color=\"black\")\n",
    "plt.xlabel(\"時間\", fontname=\"MS Gothic\")\n",
    "plt.ylabel(\"評価（低い方が高評価）\", fontname=\"MS Gothic\")\n",
    "plt.title(\"テレワークが評価（生産性）に与える影響の差の差分析(DID)\", fontname=\"MS Gothic\")\n",
    "plt.axvline(x=2019.5, color=\"green\", label=\"テレワーク導入\")\n",
    "plt.legend(prop={'family':'Yu Gothic'})"
   ]
  },
  {
   "cell_type": "code",
   "execution_count": null,
   "metadata": {},
   "outputs": [],
   "source": [
    "# テレワーク導入の因果効果を求める\n",
    "\n",
    "TG_after_2 = (DF_evaluation_DID2_summary.loc[\"TG\", 2020] + DF_evaluation_DID2_summary.loc[\"TG\", 2021]) / 2\n",
    "TG_before_2 = DF_evaluation_DID2_summary.loc[\"TG\", 2019]\n",
    "CG_after_2 = (DF_evaluation_DID2_summary.loc[\"CG\", 2020] + DF_evaluation_DID2_summary.loc[\"CG\", 2021]) / 2\n",
    "CG_before_2 = DF_evaluation_DID2_summary.loc[\"CG\", 2019]\n",
    "\n",
    "causal_effect2 = (TG_after_2 - TG_before_2) - (CG_after_2 - CG_before_2)\n",
    "\n",
    "causal_effect2"
   ]
  },
  {
   "cell_type": "code",
   "execution_count": null,
   "metadata": {},
   "outputs": [],
   "source": [
    "print(TG_after_2, TG_before_2, CG_after_2, CG_before_2)"
   ]
  },
  {
   "cell_type": "markdown",
   "metadata": {},
   "source": [
    "## 合成コントロール法をRで使用する際のデータフレームの作成"
   ]
  },
  {
   "cell_type": "code",
   "execution_count": null,
   "metadata": {},
   "outputs": [],
   "source": [
    "DF_evaluation_DID2"
   ]
  },
  {
   "cell_type": "code",
   "execution_count": null,
   "metadata": {},
   "outputs": [],
   "source": [
    "list(DF_evaluation_DID2[DF_evaluation_DID2[\"社員番号\"] == \"P80509313\"][2015])[0]"
   ]
  },
  {
   "cell_type": "code",
   "execution_count": null,
   "metadata": {},
   "outputs": [],
   "source": [
    "evaluation_2013 = list(DF_evaluation_DID2[2013])\n",
    "evaluation_2014 = list(DF_evaluation_DID2[2014])\n",
    "evaluation_2015 = list(DF_evaluation_DID2[2015])\n",
    "evaluation_2016 = list(DF_evaluation_DID2[2016])\n",
    "evaluation_2017 = list(DF_evaluation_DID2[2017])\n",
    "evaluation_2018 = list(DF_evaluation_DID2[2018])\n",
    "evaluation_2019 = list(DF_evaluation_DID2[2019])\n",
    "evaluation_2020 = list(DF_evaluation_DID2[2020])\n",
    "evaluation_2021 = list(DF_evaluation_DID2[2021])\n",
    "\n",
    "workers_number = list(DF_evaluation_DID2[\"社員番号\"])\n",
    "group = list(DF_evaluation_DID2[\"group\"])"
   ]
  },
  {
   "cell_type": "code",
   "execution_count": null,
   "metadata": {},
   "outputs": [],
   "source": [
    "cols = ['社員番号', '年度', 'group', '評価']\n",
    "\n",
    "year = list(range(2013, 2022))\n",
    "\n",
    "contents = []\n",
    "\n",
    "for i in range(len(workers_number)):\n",
    "    for j in range(len(year)):\n",
    "        CG_or_TG = list(DF_evaluation_DID2[DF_evaluation_DID2[\"社員番号\"] == workers_number[i]][\"group\"])[0]\n",
    "        evaluation = list(DF_evaluation_DID2[DF_evaluation_DID2[\"社員番号\"] == workers_number[i]][year[j]])[0]\n",
    "        contents.append([workers_number[i], year[j], CG_or_TG, evaluation])\n",
    "        #data_frame = pd.DataFrame({'社員番号': workers_number[i], '年': year[j], 'group': CG_or_TG, '評価': evaluation})\n",
    "        #data_frame = pd.DataFrame([workers_number[i], year[j], CG_or_TG, evaluation], columns=cols)\n",
    "        "
   ]
  },
  {
   "cell_type": "code",
   "execution_count": null,
   "metadata": {},
   "outputs": [],
   "source": [
    "DF_for_SCM = pd.DataFrame(contents, columns=cols)"
   ]
  },
  {
   "cell_type": "code",
   "execution_count": null,
   "metadata": {},
   "outputs": [],
   "source": [
    "DF_for_SCM[\"group_number\"] = 1\n",
    "\n",
    "for i in range(len(DF_for_SCM)):\n",
    "    if(DF_for_SCM.loc[i, \"group\"] == \"TG\"):\n",
    "        DF_for_SCM.loc[i, \"group_number\"] = 2"
   ]
  },
  {
   "cell_type": "code",
   "execution_count": null,
   "metadata": {},
   "outputs": [],
   "source": [
    "DF_for_SCM"
   ]
  },
  {
   "cell_type": "code",
   "execution_count": null,
   "metadata": {},
   "outputs": [],
   "source": [
    "# groupbyで集計する際に年度列を追加\n",
    "\n",
    "from_2017 = datetime(2017, 4, 1)\n",
    "to_2018 = datetime(2018, 3, 31)\n",
    "\n",
    "from_2018 = datetime(2018, 4, 1)\n",
    "to_2019 = datetime(2019, 3, 31)\n",
    "\n",
    "from_2019 = datetime(2019, 4, 1)\n",
    "to_2020 = datetime(2020, 3, 31)\n",
    "\n",
    "from_2020 = datetime(2020, 4, 1)\n",
    "to_2021 = datetime(2021, 3, 31)\n",
    "\n",
    "from_2021 = datetime(2021, 4, 1)\n",
    "to_2022 = datetime(2022, 3, 31)\n",
    "\n",
    "for i in range(len(DF_working_all)):\n",
    "    if(from_2017 <= DF_working_all.loc[i, \"勤務日\"] <= to_2018):\n",
    "        DF_working_all.loc[i, \"勤務年度\"] = int(2017)\n",
    "    if(from_2018 <= DF_working_all.loc[i, \"勤務日\"] <= to_2019):\n",
    "        DF_working_all.loc[i, \"勤務年度\"] = int(2018)\n",
    "    if(from_2019 <= DF_working_all.loc[i, \"勤務日\"] <= to_2020):\n",
    "        DF_working_all.loc[i, \"勤務年度\"] = int(2019)\n",
    "    if(from_2020 <= DF_working_all.loc[i, \"勤務日\"] <= to_2021):\n",
    "        DF_working_all.loc[i, \"勤務年度\"] = int(2020)\n",
    "    if(from_2021 <= DF_working_all.loc[i, \"勤務日\"] <= to_2022):\n",
    "        DF_working_all.loc[i, \"勤務年度\"] = int(2021)\n",
    "\n",
    "DF_working_all"
   ]
  },
  {
   "cell_type": "code",
   "execution_count": null,
   "metadata": {},
   "outputs": [],
   "source": [
    "# 社員コードと勤務年度で集計\n",
    "DF_working_summarized = DF_working_all.groupby([\"社員コード\", \"勤務年度\"]).mean()"
   ]
  },
  {
   "cell_type": "code",
   "execution_count": null,
   "metadata": {},
   "outputs": [],
   "source": [
    "# 後でデータフレームの結合を行う時のために列名の変更を行う\n",
    "DF_working_summarized.reset_index(inplace= True)\n",
    "\n",
    "DF_working_summarized = DF_working_summarized.rename(columns={'社員コード': '社員番号', \n",
    "                                                              '勤務年度': '年度'})\n",
    "\n",
    "DF_working_summarized"
   ]
  },
  {
   "cell_type": "code",
   "execution_count": null,
   "metadata": {},
   "outputs": [],
   "source": [
    "DF_working_summarized.columns"
   ]
  },
  {
   "cell_type": "code",
   "execution_count": null,
   "metadata": {},
   "outputs": [],
   "source": [
    "# 平均を求めるべきでない列を削除\n",
    "DF_working_summarized = DF_working_summarized.drop(columns=[\"勤務区分No\", \"休暇区分No\"])"
   ]
  },
  {
   "cell_type": "code",
   "execution_count": null,
   "metadata": {},
   "outputs": [],
   "source": [
    "DF_working_summarized.columns"
   ]
  },
  {
   "cell_type": "code",
   "execution_count": null,
   "metadata": {},
   "outputs": [],
   "source": [
    "DF_for_SCM"
   ]
  },
  {
   "cell_type": "code",
   "execution_count": null,
   "metadata": {},
   "outputs": [],
   "source": [
    "DF_for_SCM_merged = pd.merge(DF_for_SCM, DF_working_summarized, on=[\"社員番号\", \"年度\"], how=\"left\")"
   ]
  },
  {
   "cell_type": "code",
   "execution_count": null,
   "metadata": {},
   "outputs": [],
   "source": [
    "DF_for_SCM_merged"
   ]
  },
  {
   "cell_type": "code",
   "execution_count": null,
   "metadata": {},
   "outputs": [],
   "source": [
    "# Rで使用するSCMの特性上、社員番号に対して番号を振り当てる準備を行う\n",
    "\n",
    "# 社員番号を一意な形でリストにする\n",
    "worker_numbers = list(DF_for_SCM_merged[\"社員番号\"])\n",
    "worker_numbers_unique = []\n",
    "\n",
    "for i in range(len(worker_numbers)):\n",
    "    if(worker_numbers[i] not in worker_numbers_unique):\n",
    "        worker_numbers_unique.append(worker_numbers[i])\n",
    "\n",
    "# 社員番号に一意なIDを振り当てた二次元上のリストを作成\n",
    "worker_numbers_unique_with_ID = []\n",
    "\n",
    "for i in range(len(worker_numbers_unique)):\n",
    "    list_workers_and_workers_ID = [worker_numbers_unique[i], i+1]\n",
    "    worker_numbers_unique_with_ID.append(list_workers_and_workers_ID)\n",
    "\n",
    "worker_numbers_unique_with_ID\n",
    "\n",
    "\n",
    "# 作成した社員IDをDF_for_SCM_mergedの列に追加する\n",
    "for i in range(len(worker_numbers_unique_with_ID)):\n",
    "    for j in range(len(DF_for_SCM_merged)):\n",
    "        if(DF_for_SCM_merged.loc[j, \"社員番号\"] == worker_numbers_unique_with_ID[i][0]):\n",
    "            DF_for_SCM_merged.loc[j, \"社員ID\"] = worker_numbers_unique_with_ID[i][1]"
   ]
  },
  {
   "cell_type": "code",
   "execution_count": null,
   "metadata": {},
   "outputs": [],
   "source": [
    "DF_for_SCM_merged"
   ]
  },
  {
   "cell_type": "code",
   "execution_count": null,
   "metadata": {},
   "outputs": [],
   "source": [
    "workers_ID_TG = list(set(DF_for_SCM_merged[DF_for_SCM_merged[\"group\"] == \"TG\"][\"社員ID\"]))\n",
    "\n",
    "workers_ID_TG"
   ]
  },
  {
   "cell_type": "code",
   "execution_count": null,
   "metadata": {},
   "outputs": [],
   "source": [
    "workers_ID_CG = list(set(DF_for_SCM_merged[DF_for_SCM_merged[\"group\"] == \"CG\"][\"社員ID\"]))\n",
    "\n",
    "workers_ID_CG"
   ]
  },
  {
   "cell_type": "code",
   "execution_count": null,
   "metadata": {},
   "outputs": [],
   "source": [
    "for i in range(len(workers_ID_TG)):\n",
    "    for j in range(len(DF_for_SCM_merged)):\n",
    "        if(DF_for_SCM_merged.loc[j, \"社員ID\"] == workers_ID_TG[i]):\n",
    "            DF_for_SCM_merged.loc[j, \"社員ID\"] = 1000"
   ]
  },
  {
   "cell_type": "code",
   "execution_count": null,
   "metadata": {},
   "outputs": [],
   "source": [
    "DF_for_SCM_merged"
   ]
  },
  {
   "cell_type": "code",
   "execution_count": null,
   "metadata": {},
   "outputs": [],
   "source": [
    "DF_for_SCM_merged_revied = DF_for_SCM_merged.copy()\n",
    "\n",
    "for i in range(len(DF_for_SCM_merged_revied)):\n",
    "    if(DF_for_SCM_merged_revied.loc[i, \"group\"] == \"TG\"):\n",
    "        DF_for_SCM_merged_revied.loc[i, \"社員番号\"] = \"TG\"\n",
    "\n",
    "DF_for_SCM_merged_revied"
   ]
  },
  {
   "cell_type": "code",
   "execution_count": null,
   "metadata": {},
   "outputs": [],
   "source": [
    "DF_for_SCM_merged_revied.columns"
   ]
  },
  {
   "cell_type": "code",
   "execution_count": null,
   "metadata": {},
   "outputs": [],
   "source": [
    "DF_for_SCM_merged_revied = DF_for_SCM_merged_revied.drop(columns=[\n",
    "                                                                    \n",
    "                                                                    \n",
    "                                                                    'group', \n",
    "                                                                    'group_number', \n",
    "                                                                    \n",
    "                                                                    #'出勤日数', \n",
    "                                                                    #'実働時間', \n",
    "                                                                    #'休憩時間'\n",
    "                                                                    ])\n",
    "\n",
    "DF_for_SCM_merged_revied"
   ]
  },
  {
   "cell_type": "code",
   "execution_count": null,
   "metadata": {},
   "outputs": [],
   "source": [
    "DF_for_SCM_merged_revied2 = DF_for_SCM_merged_revied.groupby([\"社員番号\", \"年度\"]).mean()"
   ]
  },
  {
   "cell_type": "code",
   "execution_count": null,
   "metadata": {},
   "outputs": [],
   "source": [
    "DF_for_SCM_merged_revied2.reset_index(inplace= True)\n",
    "\n",
    "DF_for_SCM_merged_revied2"
   ]
  },
  {
   "cell_type": "code",
   "execution_count": null,
   "metadata": {},
   "outputs": [],
   "source": [
    "import csv\n",
    "import pprint\n",
    " \n",
    "DF_for_SCM_merged_revied2.to_csv('ALL/evaluation_for_SCM.csv', index=False)"
   ]
  },
  {
   "cell_type": "code",
   "execution_count": null,
   "metadata": {},
   "outputs": [],
   "source": []
  }
 ],
 "metadata": {
  "kernelspec": {
   "display_name": "Python 3.8.12 ('py38')",
   "language": "python",
   "name": "python3"
  },
  "language_info": {
   "codemirror_mode": {
    "name": "ipython",
    "version": 3
   },
   "file_extension": ".py",
   "mimetype": "text/x-python",
   "name": "python",
   "nbconvert_exporter": "python",
   "pygments_lexer": "ipython3",
   "version": "3.8.12"
  },
  "orig_nbformat": 4,
  "vscode": {
   "interpreter": {
    "hash": "f5e3262b98ad20e887e1fb690ac09d67b07404b00d992e14062cb8835541b800"
   }
  }
 },
 "nbformat": 4,
 "nbformat_minor": 2
}
